{
 "cells": [
  {
   "cell_type": "code",
   "execution_count": null,
   "id": "af6e5aca-d186-4e84-93fd-f496701add48",
   "metadata": {},
   "outputs": [],
   "source": [
    "## DATA DOWNLOAD ##"
   ]
  },
  {
   "cell_type": "code",
   "execution_count": 23,
   "id": "e9357a2c-6c67-47e5-b6fe-0141f167c829",
   "metadata": {},
   "outputs": [],
   "source": [
    "import yfinance as yf\n",
    "import matplotlib.pyplot as plt\n",
    "\n",
    "# Download Raymond Ltd (India) data - NSE:RAYMOND.NS\n",
    "list=[\"irfc\",\"ioc\",\"hindpetro\",\"bpcl\",\"rvnl\"]\n",
    "\n",
    "for i in list:\n",
    "    ticker = f\"{i}.NS\"\n",
    "    data = yf.download(ticker, period=\"40d\", interval=\"1d\")\n",
    "    data.to_excel(f\"{i}40d.xlsx\")"
   ]
  },
  {
   "cell_type": "code",
   "execution_count": null,
   "id": "8650355a-8b10-4d64-a8c8-e893f6c41269",
   "metadata": {},
   "outputs": [],
   "source": [
    "## CHECKING HTE DATA LEN##"
   ]
  },
  {
   "cell_type": "code",
   "execution_count": 37,
   "id": "fa7e19cd-b576-44b6-8c9f-64bf5daae0bc",
   "metadata": {},
   "outputs": [
    {
     "name": "stdout",
     "output_type": "stream",
     "text": [
      "902\n",
      "902\n",
      "902\n",
      "902\n",
      "902\n"
     ]
    }
   ],
   "source": [
    "import pandas as pd\n",
    "for i in list:\n",
    "    df=pd.read_excel(f\"training\\\\{i}940d.xlsx\")\n",
    "    print(len(df))"
   ]
  },
  {
   "cell_type": "code",
   "execution_count": 33,
   "id": "32449543-bed8-4253-b7db-6d4617878431",
   "metadata": {},
   "outputs": [],
   "source": [
    "## DELETING THE RECENT 40 DAYS DATA, WILL BE USED FOR TESTING ##"
   ]
  },
  {
   "cell_type": "code",
   "execution_count": 35,
   "id": "8d8f980b-170d-46d3-9dcf-d9294ed73e59",
   "metadata": {},
   "outputs": [
    {
     "name": "stdout",
     "output_type": "stream",
     "text": [
      "training\\irfc940d.xlsx: trimmed and saved.\n",
      "training\\ioc940d.xlsx: trimmed and saved.\n",
      "training\\hindpetro940d.xlsx: trimmed and saved.\n",
      "training\\bpcl940d.xlsx: trimmed and saved.\n",
      "training\\rvnl940d.xlsx: trimmed and saved.\n"
     ]
    }
   ],
   "source": [
    "import os\n",
    "\n",
    "# List of base filenames (without extension and path)\n",
    "companies = [\"irfc\", \"ioc\", \"hindpetro\", \"bpcl\", \"rvnl\"]\n",
    "\n",
    "for i in companies:\n",
    "    file_path = f\"training\\\\{i}940d.xlsx\"\n",
    "    \n",
    "    try:\n",
    "        # Read Excel file\n",
    "        df = pd.read_excel(file_path)\n",
    "        \n",
    "        # Drop the last 40 rows\n",
    "        df_trimmed = df[:-40]  # or df.iloc[:-40]\n",
    "\n",
    "        # Save back to the same file (or a new one if you want to keep the original)\n",
    "        df_trimmed.to_excel(file_path, index=False)\n",
    "        print(f\"{file_path}: trimmed and saved.\")\n",
    "    \n",
    "    except Exception as e:\n",
    "        print(f\"Error with {file_path}: {e}\")\n"
   ]
  },
  {
   "cell_type": "code",
   "execution_count": null,
   "id": "0daa90ba-d4fc-4626-b68e-60b8aeacf712",
   "metadata": {},
   "outputs": [],
   "source": []
  }
 ],
 "metadata": {
  "kernelspec": {
   "display_name": "Python 3 (ipykernel)",
   "language": "python",
   "name": "python3"
  },
  "language_info": {
   "codemirror_mode": {
    "name": "ipython",
    "version": 3
   },
   "file_extension": ".py",
   "mimetype": "text/x-python",
   "name": "python",
   "nbconvert_exporter": "python",
   "pygments_lexer": "ipython3",
   "version": "3.12.4"
  }
 },
 "nbformat": 4,
 "nbformat_minor": 5
}
